{
  "nbformat": 4,
  "nbformat_minor": 0,
  "metadata": {
    "colab": {
      "name": "Parra_Martin_Ejercicio_1_CPU.ipynb",
      "provenance": [],
      "collapsed_sections": []
    },
    "kernelspec": {
      "name": "python3",
      "display_name": "Python 3"
    }
  },
  "cells": [
    {
      "cell_type": "markdown",
      "metadata": {
        "id": "WSjKatr_niZd"
      },
      "source": [
        "**1 Introducción**\n",
        "\n",
        "El siguiente cuaderno realiza la multiplicación de 2 vectores en forma secuencial, utilizando el procesador CPU. El algoritmo representa una \"similitud\" con el algoritmo dot[3] con la diferencia que en el ejercicio el resultado obtenido termina siendo un vector y no un escalar.\n",
        "\n",
        "La lógica planteada en dicho ejercicio es la siguiente:\n",
        "\n",
        "                      Y[0] = X[0] * Y[0]\n",
        "                      Y[1] = X[1] * Y[1]\n",
        "                      Y[2] = X[2] * Y[2]\n",
        "                                .\n",
        "                                .\n",
        "                                .\n",
        "                                .\n",
        "                                .\n",
        "                      Y[n] = X[n] * Y[n]\n",
        "\n",
        "\n",
        "Siendo n, la cantidad de elementos ingresados por parámetro.\n",
        "\n",
        "Realizada en lenguaje Python[1], utilizando Google Colab[2]"
      ]
    },
    {
      "cell_type": "markdown",
      "metadata": {
        "id": "3HmIj9gznr7i"
      },
      "source": [
        "**2 Armado del Ambiente**\n",
        "\n",
        "No es necesario realizar ejecuciones previas"
      ]
    },
    {
      "cell_type": "markdown",
      "metadata": {
        "id": "O0SfiEX4nsXc"
      },
      "source": [
        "**3 Desarrollo**"
      ]
    },
    {
      "cell_type": "code",
      "metadata": {
        "id": "A6sqJRaygg4W",
        "colab": {
          "base_uri": "https://localhost:8080/"
        },
        "outputId": "78690c81-fae0-4fb5-9479-295865763e06"
      },
      "source": [
        "# --------------------------------------------\n",
        "#@title 3.1 Parámetros de ejecución { vertical-output: true }\n",
        "\n",
        "cantidad_N =   10000#@param {type: \"number\"}\n",
        "\n",
        "# --------------------------------------------\n",
        "\n",
        "from datetime import datetime\n",
        "\n",
        "tiempo_total = datetime.now()\n",
        "\n",
        "import numpy\n",
        "\n",
        "# --------------------------------------------\n",
        "# Definición de función que transforma el tiempo en  milisegundos \n",
        "tiempo_en_ms = lambda dt:(dt.days * 24 * 60 * 60 + dt.seconds) * 1000 + dt.microseconds / 1000.0\n",
        "\n",
        "try: \n",
        "  if cantidad_N <= 0:\n",
        "    print(\"Debe ingresar un valor númerico mayor a 0\")\n",
        "  else:\n",
        "    # --------------------------------------------\n",
        "    # CPU - Defino la memoria de los vectores en cpu.\n",
        "    x_cpu = numpy.random.randn( cantidad_N )\n",
        "    x_cpu = x_cpu.astype( numpy.float32() )\n",
        "\n",
        "    y_cpu = numpy.random.randn( cantidad_N )\n",
        "    y_cpu = y_cpu.astype( numpy.float32() )\n",
        "\n",
        "    # --------------------------------------------\n",
        "    # CPU - Realizo el producto.\n",
        "\n",
        "    tiempo_bucle = datetime.now()\n",
        "\n",
        "    for idx in range(0, cantidad_N ):\n",
        "            y_cpu[idx] = x_cpu[idx] * y_cpu[idx]\n",
        "\n",
        "    tiempo_bucle = datetime.now() - tiempo_bucle\n",
        "\n",
        "    # --------------------------------------------\n",
        "\n",
        "    tiempo_total = datetime.now() - tiempo_total\n",
        "\n",
        "    # CPU - Informo el resultado del producto vectorial.\n",
        "    print( \"Vector Resultante: \" )\n",
        "    print( y_cpu )\n",
        "    print( \"------------------------------------\")\n",
        "\n",
        "\n",
        "    \n",
        "\n",
        "    print(\"Tiempo Total: \", tiempo_en_ms( tiempo_total ), \"[ms]\" )\n",
        "    print(\"Tiempo bucle: \", tiempo_en_ms( tiempo_bucle ), \"[ms]\" )\n",
        "except Exception as exception:\n",
        "  print(\"Ha ocurrido una excepcion: \", exception)"
      ],
      "execution_count": null,
      "outputs": [
        {
          "output_type": "stream",
          "text": [
            "Vector Resultante: \n",
            "[ 1.4453269   0.20541091 -4.1648703  ...  0.5240587   0.18121207\n",
            "  1.2140903 ]\n",
            "------------------------------------\n",
            "Tiempo Total:  8.726 [ms]\n",
            "Tiempo bucle:  7.219 [ms]\n"
          ],
          "name": "stdout"
        }
      ]
    },
    {
      "cell_type": "markdown",
      "metadata": {
        "id": "MSjcKUm9nshN"
      },
      "source": [
        "**4 Tabla de Pasos**\n",
        "\n",
        "Tabla de pasos de la ejecución del programa:\n",
        "\n",
        "Procesador |\tFunción |\tDetalle\n",
        "-----------|----------|--------\n",
        "CPU        |\t@param\t| Lectura del tamaño de vectores desde Colab.\n",
        "CPU\t       |  import\t| Importa los módulos para funcionar.\n",
        "CPU\t       | datetime.now() |\tToma el tiempo inicial.\n",
        "CPU        |          | transformo el tiempo en ms\n",
        "CPU\t       | numpy.random.randn( Cantidad_N )\t| Inicializa los vectores X e Y.\n",
        "CPU\t       | if...    |\tverifica la cantidad ingresada por parametros\n",
        "CPU\t       | else...\t| Realiza la multiplicación (dentro de un for) de cada posición de los vectores y lo guarda en Y.\n",
        "CPU\t       |datetime.now()\t| Toma el tiempo final.\n",
        "CPU\t       | print()\t      | Informa el vector resultado y los tiempos total y de bucle.\n",
        "\n"
      ]
    },
    {
      "cell_type": "markdown",
      "metadata": {
        "id": "2lXYEQKrnsrd"
      },
      "source": [
        "**5 Conclusiones**\n",
        "\n",
        "Se puede comprobar que ante pruebas de ejecuciones con gran cantidad de elementos, la mayor cantidad del tiempo la pasa dentro del bucle.\n",
        "\n",
        "Se hizo la prueba con 50.000 elementos y se observó lo siguiente:\n",
        "\n",
        "  Tiempo Total:  40,532 [ms] - Tiempo bucle:  31,347 [ms]\n",
        "\n",
        "Aproximadamente un **77%** del tiempo total de ejecución, se la pasó iterando en el for.\n",
        "\n",
        "En cambio, ante pruebas con pocos elementos, el tiempo dentro del bucle es casi imperceptible. Una de las tantas pruebas que se realizó fue usando 10 elementos y los valores que se obtuvieron fueros estos:\n",
        "\n",
        "  Tiempo Total:  0,387 [ms] - Tiempo bucle:  0,027 [ms]\n",
        "\n",
        "En este caso, el porcentaje da apenas un **6%** del tiempo total usado por el bucle.\n",
        "\n",
        "La conclusión general, estará detallada en el ejercicio planteado con GPU."
      ]
    },
    {
      "cell_type": "markdown",
      "metadata": {
        "id": "jaD0OVkgnNUB"
      },
      "source": [
        "**6 Bibliografía**\n",
        "\n",
        "[1] Introducción a Python [Link](https://github.com/wvaliente/SOA_HPC/blob/main/Documentos/Python_Basico.ipynb)\n",
        "\n",
        "[2] Introducción a Colab [Link](https://www.youtube.com/watch?v=ICJP_ukNSQ0)\n",
        "\n",
        "[3] Algoritmo dot [Link](https://software.intel.com/content/www/us/en/develop/documentation/mkl-developer-reference-c/top/blas-and-sparse-blas-routines/blas-routines/blas-level-1-routines-and-functions/cblas-dot.html)"
      ]
    }
  ]
}