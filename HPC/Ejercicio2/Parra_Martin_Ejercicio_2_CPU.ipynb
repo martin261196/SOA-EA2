{
  "nbformat": 4,
  "nbformat_minor": 0,
  "metadata": {
    "colab": {
      "name": "Parra_Martin_Ejercicio_2_CPU.ipynb",
      "provenance": []
    },
    "kernelspec": {
      "name": "python3",
      "display_name": "Python 3"
    }
  },
  "cells": [
    {
      "cell_type": "markdown",
      "metadata": {
        "id": "RoPzeFxzeJM_"
      },
      "source": [
        "**1. Introducción**\n",
        "\n",
        "El siguiente ejemplo realiza la multiplicación entre un numero (pasado por parámetro) y una matriz[3], utilizando el procesador CPU. Además, se pasa por parametro el tamaño de las filas y columnas que debe tener la matriz\n",
        "\n",
        "Utilizando lenguaje Python[1] en Google Colab[2]"
      ]
    },
    {
      "cell_type": "markdown",
      "metadata": {
        "id": "WaMc9oJyeZRe"
      },
      "source": [
        "**2. Armado del Ambiente**\n",
        "\n",
        "No es necesario realizar ejecuciones previas"
      ]
    },
    {
      "cell_type": "markdown",
      "metadata": {
        "id": "kXqdT6oLpXJ0"
      },
      "source": [
        "**3. Desarrollo**"
      ]
    },
    {
      "cell_type": "code",
      "metadata": {
        "id": "A4DAD9AWTRKO",
        "colab": {
          "base_uri": "https://localhost:8080/"
        },
        "outputId": "6541c3f4-dc10-406b-f920-73df2f5279b2"
      },
      "source": [
        "# --------------------------------------------\n",
        "#@title 3.1 Parámetros de ejecución { vertical-output: true }\n",
        "\n",
        "TamX =   3#@param {type: \"number\"}\n",
        "TamY =   4#@param {type: \"number\"}\n",
        "Escalar =   5000#@param {type: \"number\"}\n",
        "\n",
        "from datetime import datetime\n",
        "\n",
        "tiempo_total = datetime.now()\n",
        "\n",
        "import numpy\n",
        "\n",
        "# --------------------------------------------\n",
        "# Definición de función que transforma el tiempo en  milisegundos \n",
        "tiempo_en_ms = lambda dt:(dt.days * 24 * 60 * 60 + dt.seconds) * 1000 + dt.microseconds / 1000.0\n",
        "\n",
        "try:\n",
        "  if TamX <= 0 or TamY <= 0 or Escalar <= 0:\n",
        "    print(\"Ingrese los parametros correctamente. (TamX, TamY y Escalar deben ser mayores a 0\")\n",
        "  else:\n",
        "    # --------------------------------------------\n",
        "    # CPU - Defino la memoria de los vectores en cpu.\n",
        "    matriz = numpy.random.random((TamX,TamY))\n",
        "    matriz = matriz.astype( numpy.float32() )\n",
        "\n",
        "    matrizR = numpy.random.random((TamX,TamY))\n",
        "    matrizR = matriz.astype( numpy.float32() )\n",
        "\n",
        "    print( \"------------------------------------\")\n",
        "    print( \"Matriz: \" )\n",
        "    print( matriz )\n",
        "\n",
        "    # --------------------------------------------\n",
        "    # CPU - Realizo la función de multiplicacion de matriz x escalar.\n",
        "\n",
        "    tiempo_bucle = datetime.now()\n",
        "\n",
        "    for idx in range(0, TamX ):\n",
        "      for jdx in range (0, TamY):\n",
        "            matrizR[idx][jdx] = Escalar * matriz[idx][jdx]\n",
        "\n",
        "    tiempo_bucle = datetime.now() - tiempo_bucle\n",
        "\n",
        "    print( \"------------------------------------\")\n",
        "    print( \"MatrizResultado: \" )\n",
        "    print( matrizR )\n",
        "    print( \"------------------------------------\")\n",
        "\n",
        "    tiempo_total = datetime.now() - tiempo_total\n",
        "\n",
        "    print(\"Tiempo Total: \", tiempo_en_ms( tiempo_total ), \"[ms]\" )\n",
        "    print(\"Tiempo bucle: \", tiempo_en_ms( tiempo_bucle ), \"[ms]\" )\n",
        "except Exception as exception:\n",
        "  print(\"Ha ocurrido una excepcion: \", exception)"
      ],
      "execution_count": null,
      "outputs": [
        {
          "output_type": "stream",
          "text": [
            "------------------------------------\n",
            "Matriz: \n",
            "[[0.10037884 0.16892552 0.69712806 0.7307649 ]\n",
            " [0.93777746 0.54769844 0.3650462  0.6523858 ]\n",
            " [0.9923759  0.94199586 0.46335682 0.96410614]]\n",
            "------------------------------------\n",
            "MatrizResultado: \n",
            "[[ 501.8942  844.6276 3485.6404 3653.8247]\n",
            " [4688.887  2738.4922 1825.231  3261.929 ]\n",
            " [4961.8794 4709.9795 2316.7842 4820.531 ]]\n",
            "------------------------------------\n",
            "Tiempo Total:  3.841 [ms]\n",
            "Tiempo bucle:  0.098 [ms]\n"
          ],
          "name": "stdout"
        }
      ]
    },
    {
      "cell_type": "markdown",
      "metadata": {
        "id": "Pa1gxIQXehud"
      },
      "source": [
        "**4. Tabla de pasos**\n",
        "\n",
        "Procesador |\tFunción| \tDetalle\n",
        "-----------|---------|---------\n",
        "CPU\t| @param\t| Se pide el ingreso de la cantidad de filas, columnas y el escalar\n",
        "CPU\t| import\t| Importa los módulos para funcionar.\n",
        "CPU\t| datetime.now()\t| Toma el tiempo actual.\n",
        "CPU\t| if | verifico los parametros ingresador\n",
        "CPU\t| numpy.random.random((TamX,TamY))\t| Inicializa las matrices.\n",
        "CPU\t| print()\t| Informa la matriz inicial.\n",
        "CPU\t| for...for..\t| realizo el calculo de escalar por matriz\n",
        "CPU\t| print() | Muestro la matriz resultante y los tiempos de bucle y total."
      ]
    },
    {
      "cell_type": "markdown",
      "metadata": {
        "id": "AuuVeyAGe_6u"
      },
      "source": [
        "**5. Conclusión**\n",
        "\n",
        "Luego de realizar varias pruebas, podemos observar que ante una matriz de tamaño 500x500, ocurren los siguientes tiempos:\n",
        "\n",
        "Tiempo Total:  820,462 [ms] - Tiempo bucle:  806,879 [ms]\n",
        "\n",
        "El 98% del tiempo total se encuentra realizando el algoritmo. \n",
        "\n",
        "Este porcentaje baja muchisimo cuando la matriz es pequeña, probando con una 3x4 \n",
        "\n",
        "Tiempo Total:  3,841 [ms] - Tiempo bucle:  0,098 [ms]\n",
        "\n",
        "Se demuestra que muy poco tiempo pasa dentro del bucle."
      ]
    },
    {
      "cell_type": "markdown",
      "metadata": {
        "id": "5ySxjoS6fBye"
      },
      "source": [
        "**6. Bibliografía**\n",
        "\n",
        "[1] Introducción a Python [Link](https://github.com/wvaliente/SOA_HPC/blob/main/Documentos/Python_Basico.ipynb)\n",
        "\n",
        "[2] Introducción a Colab [Link](https://www.youtube.com/watch?v=ICJP_ukNSQ0)\n",
        "\n",
        "[3] Algoritmo Matriz * Escalar [Link](https://es.khanacademy.org/math/precalculus/x9e81a4f98389efdf:matrices/x9e81a4f98389efdf:multiplying-matrices-by-scalars/a/multiplying-matrices-by-scalars)"
      ]
    }
  ]
}