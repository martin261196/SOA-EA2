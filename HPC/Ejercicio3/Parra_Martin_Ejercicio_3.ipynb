{
  "nbformat": 4,
  "nbformat_minor": 0,
  "metadata": {
    "colab": {
      "name": "Parra_Martin_Ejercicio_3.ipynb",
      "provenance": []
    },
    "kernelspec": {
      "name": "python3",
      "display_name": "Python 3"
    }
  },
  "cells": [
    {
      "cell_type": "markdown",
      "metadata": {
        "id": "DrbPPF_47AC6"
      },
      "source": [
        "**1. Introducción**\n",
        "\n",
        "Se realiza de forma automática el cálculo probabilistico de una distribución geométrica ( Cantidad de experiencias hasta observar el primer éxito ). Cálculo teórico:\n",
        "\n",
        "![image.png](data:image/png;base64,iVBORw0KGgoAAAANSUhEUgAAAkMAAAAwCAYAAAASEH7dAAAeXElEQVR4Ae2deVBUZ97v579bc2vu3EwyN4sxeTWT18nrjDFEYxLjhjEx0ZhEo0ZRjIlxySQuibtRJIKKbKKRiEgAFwQUQVyQAlnco1iiogjFolAgSgW0AhR0dZ/63Dq90d30crqhQeWhqumzPOdZPs/2fZbz6z8h/gQBQUAQEAQEAUFAEOjGBP7UjdMuki4ICAKCgCAgCAgCggBCDIlCIAgIAoKAICAICALdmoAQQ906+0XiBQFBQBAQBAQBQUCIIVEGBAFBQBAQBAQBQaBbExBiqFtnv0i8ICAICAKCgCAgCLQRQ6WlpezevVt8BANRBkQZEGVAlAFRBkQZeGTLQENDg2KV10YMeXl5MWnSJKZPny4+goEoA+0sA8OGDePdd98VHNvJUbRHytvjjz76iIEDB4oy56DMDRo0iDFjxghODjhNnzqO4YOG8dFU5WWwQ+vrtAmMemswoydNcyqvRo8ezZYtW1wXQy+88AIVFRWKPRAOBQFBwDaBJUuWEBgYaNuBuCMIdDCB9PR03n///Q729eH0Tl1fwbVTiWzwGsPyrBanIvnpp5+SnJzs1DPdz/EDTm5YTkyZRpd0dT0V106RuMGLMcuzcI54O+jVZ+K/Mo7b+mgo8WnXrl14e3srcap102ZmSIghxeyEQ0HAIQEhhhwiEg46mED3EUMS9QVZpJ05id/w3sw+7lzXLMSQ44KnLgjgyzVnjaJHqi8gK+0MJ/2G03v2ceN1xz6114VEZeTXLEi9r9gjIYYUoxIOBQH3ExBiyP2MRQjmBLqPGNKnW7pF6AghhsxLQUecqTizbCI+l9QWnkncCh3RyWIIqI1h+rQY7kkW0bFxKsSQDTDisiDQFQSEGOoK6t07TCGGlOW/mBlywEl9jXUfzeVYmwk3d4ghiTsnk9gfux6/fblkpaaRfTyGn+MLaDZEU3OD9WNnkWq8YLhh/VuIIetcxFVBoEsICDHUJdi7daBCDCnLfiGGHHBqOsCM9/y50WafjhvEkLqQqF/SqEufS5+h/lyVBY/6EqsHf0zkHcNUUAN7Jo9iU0mbCFlNiBBDVrGIi4JA1xAQYqhruHfnUIUYUpb7Qgw54HT/V8a/H0aFQYsYnTsSQxoqjgTww6KFLFxo5bNoMcHpd4y+aQ+kWqrvNHDV902GbSpBK3da0pnTewBrrxqW6ZpJnjmcH/MM5+ZeWJ4JMWRJRJwLAl1IQIihLoTfTYMWYkhZxgsx5IBT414+HxVIaZuJGEdiCKSGWiorK7Rvpstvp5t9KiupbWyjsECqYttoD5aeU2kjpr68Go+X5pDeZIhnE4nTPFlXIMSQgYj4FgTcT0B1h/JKYy10OTwhhlxGJx50kYAQQ8rACTHkgJPqJD98uJTTOm1i4tixGDJxrPzwQTyTe01hf6P8SCO53w9h3PZi3SyRfEmqYuu4icTWK/PykZsZaik6xPaDNxy/oidVkx21h/N1VhSlMjYd66qliEPbD3Kjzeayjg3Gdd8kqrOj2HO+DrcS62IOUnU2UXvO03HFQs315DCCvx7MiA03WyuiixnxuIghxfXUklMn1ds/Lu9k/hff4LP5MEXKBo6WMX0Iz1soOBjEqtkz+H7PdZRK8w4XQ5oSQmZM5sfgRPK1HZVyVM1XDxC8+nNmBBcpf8gJlw35BwgLWMR7Lz6BxzRfQqKyqGgzk2Hdw4dCDLWDLc1XORC8ms9nBFtPYLuv1hPvPYnwKpMepCGfA2EBLHrvRZ7wmIZvSBRZSoE7iE9L5jf0fXsOEUknyIgLwj86j/smQdN8jHmf+HNdYf4+WmLowUk2LI/BYM/JAStwwfCSQz9NHWjKSQ9fzWf9nuV1L19CQkMJ2fQTS2ZOZtbm0/xuzBgLQ1RaPzSUHQ/HZ+oAnu01hT01BseN5Mf7MGnAq4xdEMChTm2p68n0X0mcM5aqTHk4PLbg0EUGueoz/VkZd9tcuKjV6PpEiZbmFqcFYVOCF6M6VQxpKE8PZ/Vn/XjWYyq+IaGEhgTh9/0svgnKolphA+Awy1xxYK2easo4Hu7D1AHP0mvKHlqLez7xPpMY8OpYFgQc0gkTt9fbMoI9+7P4jOlrJmrqK65xKnEDXmOWo8gen6aSzB3BbN4cyOo50/nPL791oMh2Bbz+mYZjzH5lHDsVvlPsjBjSlKaxdcV4+j7jwZS1wYSGyuUukPUrv2LEP8ew9ZYGNEWELNlsvlziRP5rysJYEnSzHQDc86hjMaShKjeSxR++zNP9JvDjdhOhpbnFsVUf0NfjExaFn3I9gu1ki6aMsCVBrofv4Mn6g9/wZWSV0+2nA2+t3FZzec0bvLv5ts2wmrOXMD2w0Lydt+KT4dIjJIbUFAR8yZqzzkytOG94yQBG8XfzcWb/Vz9WXDAZXjYk8vlTL7MgV7+WaWGIqtXvZjJ+Wct3Q59k8EaTTJPuErctjrsGfdT6gNuPpMpIvl6QinJTVcqj9NAY5JIqifx6AUZ7XA1n2Rfuw/RJP7LrQAqp2+YwPeiqXhwpS1/niyE5Xi2kz/kvXll8FuPMtOocS/7nKT6OrlEW8Q53ZaeeNmfwy9rvGPrkYDYWtqo16W4c2+LumjRqbq636iv4DPIkuLw1Dkj1FGSlceakH8N7z8axPT4Nt3f7E3FDT74xh/l9euK1/16HE3XaQ2vps+OJM2JI9qYxxZvn+i5Fv1VD77OavA2+7Jd/2slahy27Upj/j64YkhMpUb3Vk78MDca0eIGGkrgg9hSb9BN6ck59tZOtu8UQ6gLC5gdw0Zlu2ikAeseackJHDmDlRRs8pSr2LF7NcYVLZLKvj44YUp1h2UQf2thzcgTSScNLjryzvK++uJJXe80h3STzpcqteP7vl/guR75oyxCVfOsikZFnqI6byDN9FnLSMFBtOMKO2HLFitYyTu07ryVm+jRiFI4qlYdli4Ob1pMdRKw2ZjrTYu5pO2Cppoib18L4eFw4tyS5zf6WsT6XdGJIU8KRLRvZsGGD+ScgghOVrZ1pl4ghdR6r+j/PF6kmCyItWXzb+6+M3l7lgICbbtupp6qLkUSeqSZu4jP0WXjSaA+k4cgOYs17DqcNpjmVGjtiQboVyghFYqiJhEn/lycm7tMPHJo4MPVJnvvqqFNRcYtjO+mzFp5zYkjFqUV9ePHrNF3+STUUFtYioaE49RD5ct9ko8NWmv+PthiC5iNf0uMf35Ft0idobh1gS0Jp+9v0drJ1uxiS33AvTiAg4rxbBtS68tvI1UQ/li1czJqggxSYNH+6+ypKkjYRcfaBteJu85r7xZB0h5NJ+4ld78e+3CxS07I5HvMz8QWGnt9m3MxuqK+t46O5x1r3CklVZCcmEOW/kdS8sxxLzyYndTO+O/KNjazWAycNL5kF6vBEQ3nIMJ6ZFI8Ru1RHzpJhvDX/ENqlU5uGqEBTGkPE0UZoyuLbl59jSmKdNkTVmZ1EXTKO9R3GQpkDiarsRBKi/NmYmsfZY+lk56Sy2XcH+WZZoeHG+rHMUmqpSlngYJODG8SQgjKnubGesbNSjWWlfq8Xn4TJU65NpP9nLKt/u0lBofIND5ZiSLpzkqT9saz320duVipp2ceJ+TkeR8XemT1Dcsc9/MlxRNcaMqGJgq3jGTRhG1cMDYSmhlPRESScyOZw0k4CA5K0I1apKpvEhCj8N6aSd/YY6dk5pG72ZYd5YeDB1f1E7csg++h+YoL92XVNPxJrKuZoVDQpJ7JIifiZlBL9LKhlPTVEDQ2lMRHoivu3vPzcFHTFXcWZnVG0Ke7urLd2xIJyMSRx/1oaRy79rpvRkir5eeRfeHX1JWOK23ugKktlw8LZeE+cwPRl0Vw0rLtLv3Nx10Z81wcSHBJKdG6VeSdrJ33W4uSUGNIUsv7Np5kUL7d4Ku6c8MUvydj66by32mErz/9HXQypr69j4F/HEWOYXpcqSd4ax802kxgaak5FE5FwguzDSewMDCBJHhRI1eQkxhO5zo+E3GyOHt9P0IptnJebo3ay7QwxJBcCVWU5lR3dhVkrvNauSbWU33pgMtNszVHba24XQ+rCKH5JqyN9bh+G+l/Vdj7qS6sZ/HEkOttIf1ByJp3jGXlGeJqafDKPp3E897px303TgRm853/DWOnVBTHszKnn8Je9eGPVWZ0YaUpk6mvz0U7IGNNqx/CSJHcUwQQFBmp/HFP+gUzzTxAhsWfsmPOuI/bTvzNo6SFOnT7N6dMnyTwYT2re3dZlCzuGqGoTIojXzsCoubZuIH/zDKNMo+ZGdCQnzASKMTHaaVi5AgUHWca19TwoJJYzljM76gJiduZQf/hLer2xCp1obiJx6mvMNwdGw57JjNpUYhqo7rg9vOxw6GhT7Y7LHNCwh8mjNqGzx6Uid9nnrJftU0h32TfPG5/IveRUK1mn1FB5JoGIeW/Td9IGdqUX0oiawqhfSKtLZ26fofjrLIJxafVgPo68Y7eSOiOG6naP56nXF3Lg1Glyj0Tww7RZBGXcat04K9WR8cO7TN+tW8NvSvHmxQ+2UyOpKYjZSU79Yb7s9Qar9COopsSpvDY/xzjgaDz/E++PD9Pt41GdZOErg1l/UwN/nOWnsZPYWqgb+mqu+zHig63aMmJZT42FSKolISJeV5dkYTzwb3iGlaFR3yA68oRRlBrd4756K92LZ8ork4nTjT1ag5Rrl+KZIbPHaL64hgG9JrCrrZEVc4dKz1SXiVq/l0JZ1GrukuPrSc//9mJ3STVpvt+yKeeuvi3UUHU0kiRTw3JSFRFj/s2cNAuRYiNsZ8SQdHcHHzzxb6b6BbJpwxq83xnPtkqLemKtw3Yi/22LIUkrHpxu+2yk29nLjvcM6X38Yy/jn/DA54qsfiSqD//M7uuWykCiLuMH3p2+WzdobkrB+8UP2F4job4Rw86sOlJn/gPPoBu03DvI9xN9yf7Dhhhygq09MSTVnCI6OMiiD2ztVwKDQog9o5tNd5bdo+De7WJIqq3mTsNVfN8cZrQE2ZI+h94D1qKzjdTI7ey1fPRCLz6O0jXaUu1lQmbPIiynFDn/5b/7v47n/bAKY0ci1d7hblMeqwaOIkzfAKnOL+M1zxCLtdpmpwwv6YNT9tV8lK9eGKAv9DYesWmIqpFjO2L0nbH8FmAkY57qx4rzt9m742DHTzFKtdy520TeqoGMMnBUnWfZa56EWCxRNCfPZPiPeTYS5OJlmxwczQw5b5DLcZmT9y8kM3P4jyi0x+VkoiVqq+/QcNWXN4cZBJe8v6c3A9ba34ukXAw1c3TWC7y+Jt+48ftOxBhe8tqPoY9XX1nLwJfnkqEV1hqKNw5lsJ88oJCovXOXprxVDBxlMJKm4vyy1/AM0S/PSrf4+b0XmLRPt+gu3dvJuNeXcFal5uq6Qbw06yiGeTN13o+81me+lpFlPTWCazzGjhi9cTQkqiLH8FS/FZy/vZcdBw1DaKNrOYPcUG9buPLrN3w4dBw+mTXGtsQ0VJfE0P1cVrw/Bv8z1tJh6rvyY9Wl/Ry4YTKVIP1OxsJXebKnB1/FWGz+V53jQHKZcaAoh6KuPMyyMcMYt2AvhSbeWIuBM2KoIWkaz3qs0S2H0cLpXXu4LvuvLuVqgV58WRNDTuS/bTFkLfbKr126dImNGzda/ch2bRz9KRZDqtN83+cZvFOake4eY1vsFeMAwxiG+gprB77MXF3lRFO8kaGD/bTWm6WaCqoazrH09Q/5xWhNWf9kO9naE0PGuLlwUFxcbJWrLd6dfT0zM9NhqtwuhuQYSFXbGO1h2HCn5vJqD16ak24cwTYcjSIm9UcGym7kwaamiF2/ZpmNFhv3fs6oQPM1V015CJ5vGUSVigsrPBi68SZqtcpk86sdw0tSHQUnDpGSnEyy1U8Kh7JuUG8x8DFQVZ1fyr96zyXDZG3YcM/4bcsQleockTsvtM4g8YDUmT3pOelbQndXWm2odX5K1BWc4FCKrTgnk3IoixvWIq0pJ8TzLaOFTtWFFXgM3chNtRqVSYPZlDgNz3UFxiQYD9rDyxYHHIkh1wxyOSpzNCUyzXMdCu1xGREoP5Co2jYaj6XndHmsvsxqj5eY02oRzKpXisWQ6jeW/fslvsk0FD6Jyi2e/J8hQfq3LTWUBw/j6ckJugGFdI+oj/uz6GQLKpU8SpWXeD15yyDOVBdY4TGUjTfVqOXC0BDHhKdGslX/mmzToZm8OusITVIlYZ7/j4n7DMMUDaXBw+jx2V5teqzVU/mG6lwkOy+YjI4fpDKzZ08mfRvKbsuZBa1P7qq3Ldw+shDPkevJM4mOITOcFkOqIqK/m0d4vnbnMI0NhvVJg4+ufavOp3DEgos8YBr/9F/oPT0Rs1uqSxxIKjRp8xrIXTGU91bnUGMljZYxUi6GVOQu+G96zc1o07nfPx5OtKEyWemwncl/22KoHW0fcPbsWZYvX271U1ZWZomlzbliMSRVa5dMR4Re4Xh4NJeszPJryoMZ9vRkErTVSOJe1Mf0X3SSFpVK215oigMYNnhd29fC28nWnhiS6go4cSjFRl+YTHLKIbJu1Fvtm65fv26Vqy3enX398OHDbfLT8kKniKEH8ZPpNWW/biTZmMv3Q8axvdiw+bSFM9GxXFXdI35qX8bHVKO5s4+dyeajLNXJH/hw6WkT8QB1sePpvyBXd011nqUeIwkte0BmdBxG7+0aXlJRV1FMcVERRVY/xRRX1Js0Mqb4NJRseoe/T9hrfxbHhiEqTWEU2y06RtVvy+n7Zw98tLsQTcMyP1bVVVBcbCvORRQXV1BvIm6MT9fFMr7/AnQvuak4v9SDkaFlPMiMJq4VGFVbxzHRqqWqdvCywUGeRu7oZTI5vfbLnCzQtzJuYixOvGxgxKjs4AHxk3sxRWcRjMbc7xkybntrubThiVIxpCkNZMgzk9Bu3dD61UyS19/487gYHqCitKiE6vAPGbBCJ7ilml1M6DONpPo8YqJ/Q0UdseP7G994lIW9x8hQyh5kEh1XjKYpmRmvzNT/yOEfpM/rz4Rd8pzT7+wa/+9WEdZ4jlWe7xN8RSfKrNVTWXgVRm03sQwrR1jFb8v78mcPH/0sgwUQt9VbeRbjMmsGjiRU3i1v8WdVDEl1FF0uMbdhIj8n1ZDmv4Loa3oBpLpATMxFrY9SXRGXS+5bdBwSD0rzKTIYuZIeUJpfZHwdX3pQSn6R3s5Xw0n2JNxsbe+ab/Drgh+IyzvMt/2e481lGdRom1CJmrTNRJkqO/VV1g4aTmBbU8AWqdWdKhZDmuuse+PvfBZn3jZL9bn8tDK2VaC16bCdy3/bYghcbvuspty5i4rFEM0c+aoHzw/5mu2/GeZPzcOSqsP5cMAKtOMDqYZdE/owLamevJhoflO1iqM2WradbO2JIVR1VBQX2+gLiygqLqbCasdinrZH9awTxFALmd/05e05ESSdyCAuyJ/oPJNGQn2d2OiT2pGG+spPvD1wJVn7I9lrarhJplsfj/ekcN36qpZ2C9mLhjJX3pEp/2lK2DFrHltSdpN4zsRwoJOGl3SeOfj/II99wT5M7vdXnvf8jsCDBW1GSq0+WBiiku5zYc865oz4F+98HUq66RKVppQtM5cqs3HSGoDio5bsRQyda1je0FCyYxbztqSwO/GcsUGWlyeOzfsEf6WWqhSHbsFBfs5tBrkclDl5EebYPD7xv262tKA4KUoctmTyTd+3mRORxImMOIL8o8kzswhm3RPHYug+eQlh+H/5Ns/3/ZTlm1P1GzPVXN4wmB5jd1B2NYGI1FtIv5/Ab3EQh3PSSU6MZe1X8wmP38nBAhW0ZLNo6FzthmY5JpqSHcyat4WU3Ymc03bWTeRtWczafRlkJG1ifB9PNuvFQ9PVKHwCD3LqZBq7Q4OJv2ayN8Winkr3L7Bn3RxG/Osdvg5NN1vC1pRuYebSLOt1xx311oDc6gbjBvIPhBGw6D1efMKDab4hRGVVaMuH5kYAQ556me9MXxlFzZVNw+jx7D/45z//qf306d2LKbtloaDhRsAQnnr5O7O3TNEUEjziOYYH6YxzagqDGfHccILkfViyYAwewXPDg9CeInHvVAzBwSEEB65n7eogDpXqBKd09zRbZ73HkJGfMGXmLJbszDNuJ9Am0Wr6DIlv++1YDEnUX9jLpmXjeOl/Pc/oJQH6fSUb8V3yBZ4v/wNv06VOkw7blfy3J4baxr7zrigXQxqu+w2m//e55vliGlXpd074LSbocA7pyYnErv2K+eHx7DxYgIoWTiwYyrxjVoRUO9naFUOm8XsojiUaq65w5ux17homwN0YL/eLIXkU9sa7bL7ddhQmp0uq2sevRwxT7r+TNKMv/zM5XLcObZbweg5+8yWRliLJzE3bE2cNL7X1of1XOs8QVfvjSnM2S6YHYmIGpgM81XnRaRwclDlZ8GUvmU6gOxKpp6W+vIY33t2MjWJvk6ljMWTzUXnKg7qyfPLL6jtU5Ek1kXw8xAftflB7wWvvuVZPLb11a711Uixo41Z3gL1HnFsCqzuwFycfscTg2rmT6XMshpyMhkmH7eSTWuePvhgCTW0VNVaWx1zhYfZMO9k+OmJIQ3lKEBuiDpEWt4IPh31HquVLQWZg2n/idjGkKQ9l5ICVWLONpC7PYtvc8XiHnTMaGFRf38S05fqlL4v0qQvCmB9w0fpI0sKt9tQFw0vWvGn3tc4yRNXuiEpU7VnMamcsVTkTZidxsFfm5OhKVXtYvPq4G5fINJSHjmTAyos2llhtQ2ufGLLtr1N3pBr2fTGAr/bXg/Q7OT9OZG6ivX1s5r47XU/NH5czyGmDaZZe2D1XX8P3zSFsKDIs1dt1rRWZpUmxZBhebXfkXL6vLiUpNsP4NqySRzrMjfoiK19/l80K32wTYkgZeeUzQ8r8c8lVdxFD0j0iP/PEXzsCayJlxkt8nuDcYMRZvu4VQ41XSfRbxsLFawg6WGDcMO1sJFvdqylOCCDivPmadet90yPXDC+Z+tCRx+43RNX+2KpKktgUoTdT0H7vrPrgdg6OypyqhKRNEXrTAlaj2O6LjVcT8Vu2kMVrgjjY1iKYXf8fCjGEmopTKRzOOU1uxjFyCk2Wte3G3nDTmXpqeMbw3Rn1toXLIWMZ6hXK0cvVjtslTTmX82XDgsr/NOWXya915gnlfttz2Vh1mdT143l7/C8O3yIz+NPxYqiMbXO8WePib5OF+Hgz+2crpj0MEe6i74dDDLnOVvvbZCE+eM/+uYsIOhmsWq2b4VZd4adR4whXuAfOyVCMzt0rhozBdOSBisryytaNhba8dtHwki3vOuJ6lxqicpgAidryWzzohPa7KzlIteXc6oxEOuRt3cHDIYasx825qwrrqaWnnVZvJRpuXyI77TfFP9RpGdWH71xF2elUMi9Xmb2J6yieHS6GHAXYVfcVGGO1F7WHQgzZi+AjeM+hcVqpltzQFWzOdW4w4gqKR1AMuZJM8Ywg8GgQeHzE0KPBW8QSuosYUmSM1U6BEGLIDhyXbjkwTivVciFxNyduqZDqMklz6ndJnY+QEEPOMxNPCAJuIyDEkNvQCo9tEOguYkiRMVYbjOTLQgzZgePSLXvGac+RtWoQPZ7pSc+ePXm+xzv4OjA541IUTB4SYsgEhjgUBLqagBBDXZ0D3S/87iKG5Jx1aIzVTvYLMWQHjsu3XDNO63Jwdh4UYsgOHHFLEOhsAkIMdTZxEV53EkOOjLHaKw1CDNmj4+o914zTuhqaveeEGLJHR9wTBDqZgBBDnQxcBNdt9gyBY2Os9oqDEEP26Lh4z0XjtC6GZvcxIYbs4hE3BYHOJSDEUOfyFqF1nw3U2p9hsWMA2FFZEGLIESHn77tqnNb5kBw/IcSQY0bChSDQaQSEGOo01CIgPYHuskzmyBirowIhxJAjQs7ed904rbMhKXHfbjHUo0cP0tLSyM/PFx/BQJSBdpaBGTNmsGjRIsGxnRxFe6S8PQ4PD+ett956vMvcuUQ2/ecLvLxnsyj4AOdcKF8jRowgJCTk8ebkAhdX69q5xE385wsvvGcvIvjAuS7num7dOry8vJToJq2bP1m6TExM5NVXX6V///7iIxiIMtDOMtCvXz9Rn9rJULRFzrXFcvstlzvBzT43UTft83nUy49cD8rKyiwljs3zNmLIpktxQxAQBAQBQUAQEAQEgceQgBBDj2GmiiQJAoKAICAICAKCgHICQgwpZyVcCgKCgCAgCAgCgsBjSECIoccwU0WSBAFBQBAQBAQBQUA5ASGGlLMSLgUBQUAQEAQEAUHgMSQgxNBjmKkiSYKAICAICAKCgCCgnIAQQ8pZCZeCgCAgCAgCgoAg8BgSEGLoMcxUkSRBQBAQBAQBQUAQUE5AiCHlrIRLQUAQEAQEAUFAEHgMCfx/jPb4BnkhgJEAAAAASUVORK5CYII=)\n",
        "\n",
        "Tanto N como P deben ser ingresados por parametros, siendo P un valor entre 0 y 1.\n",
        "\n",
        "El gráfico representa a la distribución geométrica dada una probabilidad con un rango de valores de la variable aleatoria."
      ]
    },
    {
      "cell_type": "markdown",
      "metadata": {
        "id": "c-WE8ei-7CiZ"
      },
      "source": [
        "**2. Armado de Ambiente**\n",
        "\n",
        "No se requiere instalación previa"
      ]
    },
    {
      "cell_type": "markdown",
      "metadata": {
        "id": "9YSHdjXI7EO_"
      },
      "source": [
        "**3. Desarrollo**"
      ]
    },
    {
      "cell_type": "code",
      "metadata": {
        "id": "EV8e9otJIsmp"
      },
      "source": [
        "codigo = \"\"\"\n",
        "#include <iostream>\n",
        "#include <vector>\n",
        "#include <cstdlib>\n",
        "#include <tgmath.h>\n",
        "#include <cmath>\n",
        "#include <iomanip>\n",
        "#include <sys/time.h>\n",
        "#include <omp.h>\n",
        "#include <fstream>\n",
        "\n",
        "static double dHashTiempoHistory[3];\n",
        "static struct timeval tv;\n",
        "\n",
        "#define TIEMPO_INI( h ) \\\n",
        "  gettimeofday(&tv,NULL); \\\n",
        "  dHashTiempoHistory[h] = tv.tv_sec + tv.tv_usec/1000000.0;\n",
        "\n",
        "#define TIEMPO_FIN( h ) \\\n",
        "  gettimeofday(&tv,NULL); \\\n",
        "  dHashTiempoHistory[h] = ((tv.tv_sec + tv.tv_usec/1000000.0) - dHashTiempoHistory[h]) * 1000;\n",
        "\n",
        "#define TIEMPO_GET(h) dHashTiempoHistory[h]\n",
        "\n",
        "#define HTH_TOTAL           1\n",
        "#define HTH_GEO_SEC         2\n",
        "#define HTH_GEO_OMP         3\n",
        "\n",
        "//------------------------------------------------------------------\n",
        "\n",
        "using namespace std;\n",
        "\n",
        "int main(int argc, char* argv[])\n",
        "{\n",
        "  int i;\n",
        "  float resultadoSEC = 0, resultadoOMP = 0;\n",
        "  ofstream archivoVec;\n",
        "  archivoVec.open(\"archivoVec.txt\");\n",
        "  TIEMPO_INI(HTH_TOTAL)\n",
        "\n",
        "  float probabilidad = atof(argv[1]);\n",
        "  int cantidad_Exp = atoi(argv[2]);\n",
        "\n",
        "  if(argc != 3)\n",
        "  {\n",
        "    std::cerr<<\"Error en los parametros\"<<std::endl;\n",
        "    exit(1);\n",
        "  }\n",
        "\n",
        "  if(probabilidad < 0 or probabilidad > 1)\n",
        "  {\n",
        "    std::cerr<<\"El valor de probabilidad debe ir entre 0 y 1\"<<std::endl;\n",
        "    exit(1);\n",
        "  }\n",
        "\n",
        "  if(cantidad_Exp <= 0)\n",
        "  {\n",
        "    std::cerr<<\"La cantidad de experiencias debe ser mayor a 0\"<<std::endl;\n",
        "    exit(1);\n",
        "  }  \n",
        "\n",
        "//------------------------------------------------------------------\n",
        "\n",
        "  std::vector<float> X(cantidad_Exp);\n",
        "\n",
        "//------------------------------------------------------------------\n",
        "//Funcion en forma secuencial\n",
        "\n",
        "  TIEMPO_INI(HTH_GEO_SEC)\n",
        "\n",
        "  for(i=cantidad_Exp;i>=1;i--)\n",
        "    {\n",
        "      X[i-1] = pow((1 - probabilidad), (i - 1)) * probabilidad;\n",
        "      resultadoSEC += X[i-1];\n",
        "    }\n",
        "\n",
        "  TIEMPO_FIN(HTH_GEO_SEC) \n",
        "\n",
        "//------------------------------------------------------------------\n",
        "//Funcion con OpenMP\n",
        "\n",
        "  TIEMPO_INI(HTH_GEO_OMP)\n",
        "\n",
        "    #pragma omp parallel for\n",
        "    for(i=cantidad_Exp;i>=1;i--)\n",
        "    {\n",
        "      X[i-1] = pow((1 - probabilidad), (i - 1)) * probabilidad;  \n",
        "      resultadoOMP += X[i-1]; \n",
        "    }\n",
        "\n",
        "  TIEMPO_FIN(HTH_GEO_OMP)\n",
        "\n",
        "  TIEMPO_FIN(HTH_TOTAL)\n",
        "\n",
        "//------------------------------------------------------------------\n",
        "\n",
        "archivoVec << \"Posicion\" << \" - \" << \"Valor\" <<std::endl;\n",
        "\n",
        "//Guardo los valores del vector en un archivo txt\n",
        "for(i=0;i<X.size();i++)\n",
        "{\n",
        "  archivoVec << std::fixed << std::setprecision(6) << i << \" - \" << X[i] <<std::endl;\n",
        "}\n",
        "std::cout<<\"]\"<<std::endl;\n",
        "\n",
        "std::cout<<\"Valores de tiempo\"<<std::endl;\n",
        "std::cout<<\"Tiempo total: \"<<TIEMPO_GET(HTH_TOTAL)<<\" [ms]\"<<std::endl;\n",
        "std::cout<<\"Tiempo SEC: \"<<TIEMPO_GET(HTH_GEO_SEC)<<\" [ms]\"<<std::endl;\n",
        "std::cout<<\"Tiempo OMP: \"<<TIEMPO_GET(HTH_GEO_OMP)<<\" [ms]\"<<std::endl;\n",
        "std::cout<<\"Valores probabilistico\"<<std::endl;\n",
        "std::cout<<\"Probabilidad: \"<<probabilidad<<std::endl;\n",
        "std::cout<<\"Cantidad exp: \"<<cantidad_Exp<<std::endl;\n",
        "\n",
        "archivoVec.close();\n",
        "\n",
        "}\n",
        "\"\"\"\n",
        "\n",
        "file = open('probgeo.cpp', 'w')\n",
        "file.write(codigo)\n",
        "file.close()\n",
        "\n"
      ],
      "execution_count": null,
      "outputs": []
    },
    {
      "cell_type": "code",
      "metadata": {
        "id": "zevOM__0vreD"
      },
      "source": [
        " ! g++ -o probgeo -fopenmp probgeo.cpp"
      ],
      "execution_count": null,
      "outputs": []
    },
    {
      "cell_type": "code",
      "metadata": {
        "colab": {
          "base_uri": "https://localhost:8080/"
        },
        "id": "5O0pFTf0l8GU",
        "outputId": "ff29d7d9-1382-4f3a-d11b-4ec170280d35"
      },
      "source": [
        "%env OPM_NUM_THREADS=2\n",
        "!./probgeo 0.5 25"
      ],
      "execution_count": null,
      "outputs": [
        {
          "output_type": "stream",
          "text": [
            "env: OPM_NUM_THREADS=2\n",
            "VECTOR: []\n",
            "Valores de tiempo\n",
            "Tiempo total: 0.440121 [ms]\n",
            "Tiempo SEC: 0.0128746 [ms]\n",
            "Tiempo OMP: 0.41008 [ms]\n",
            "Valores probabilistico\n",
            "Probabilidad: 0.5\n",
            "Cantidad exp: 25\n"
          ],
          "name": "stdout"
        }
      ]
    },
    {
      "cell_type": "code",
      "metadata": {
        "colab": {
          "base_uri": "https://localhost:8080/",
          "height": 282
        },
        "id": "a3iPfi3160tH",
        "outputId": "b02cb7c2-0738-48d4-c949-a7842e8c156b"
      },
      "source": [
        "import pandas as pd\n",
        "import matplotlib.pyplot as plt\n",
        "\n",
        "file = \"archivoVec.txt\"\n",
        "data = pd.read_csv(file,header = None, skiprows = 1, delimiter=\"-\",error_bad_lines=False)\n",
        "\n",
        "x = data.iloc[:,0]\n",
        "y = data.iloc[:,1]\n",
        "\n",
        "plt.plot(x,y,'ro')\n"
      ],
      "execution_count": null,
      "outputs": [
        {
          "output_type": "execute_result",
          "data": {
            "text/plain": [
              "[<matplotlib.lines.Line2D at 0x7f79df68df98>]"
            ]
          },
          "metadata": {
            "tags": []
          },
          "execution_count": 21
        },
        {
          "output_type": "display_data",
          "data": {
            "image/png": "[encoded data removed]",
            "text/plain": [
              "<Figure size 432x288 with 1 Axes>"
            ]
          },
          "metadata": {
            "tags": [],
            "needs_background": "light"
          }
        }
      ]
    },
    {
      "cell_type": "markdown",
      "metadata": {
        "id": "Wwo-UYil7F9A"
      },
      "source": [
        "**4. Tabla de Pasos**\n",
        "\n",
        "Procesador | Función | Detalle\n",
        "-----------|---------|--------\n",
        "CPU c++ | #include | Se incluyen todas las librerías necesarias para ejecutar el programa\n",
        "CPU c++ | #define | Se definen macros para medir el tiempo\n",
        "CPU c++ | if argc | Se valida la cantidad de parametros\n",
        "CPU c++ | if... if... | Se valida que ambos parametros sean correctos\n",
        "CPU c++ | std::vector<double> X(cantidad_Exp); | Defino la memoria para el vector X\n",
        "CPU c++ | TIEMPO_INI(HTH_GEO_SEC) | Se inicia a contar el tiempo de la ejecución secuencial\n",
        "CPU c++ | for | Se realiza el cálculo de la distribución geométrica y se acumula el resultado\n",
        "CPU c++ | TIEMPO_FIN(HTH_GEO_SEC) | Se finaliza el tiempo de la ejecución secuencial\n",
        "CPU c++ | TIEMPO_INI(HTH_GEO_OMP) | Se inicia a contar el tiempo de la ejecución con omp\n",
        "CPU c++ | #pragma omp parallel for | Esta directiva nos indica que la parte de código que la comprende puede ser ejecutada por varios hilos\n",
        "CPU c++ | for | Se realiza el cálculo de la distribución geométrica y se acumula el resultado\n",
        "CPU c++ | TIEMPO_FIN(HTH_GEO_OMP) | Se finaliza el tiempo de la ejecución con omp\n",
        "CPU c++ | for | Se guarda en el archivo archivoVec.txt los valores que se fueron obteniendo de la distribución geométrica\n",
        "CPU c++ | std::cout | Se muestra por pantalla los valores de tiempos y los valores de los parametros.\n",
        "CPU python | import | Importa los módulos para funcionar\n",
        "CPU python | pd.read_csv | Leo el archivo txt que se guarda cuando genero el vector\n",
        "CPU python | data.iloc | le indico a X e Y que columnas corresponden del archivo\n",
        "CPU python | plot | Muestro el gráfico, se incluyen los parametros x, 'y' y el color rojo\n"
      ]
    },
    {
      "cell_type": "markdown",
      "metadata": {
        "id": "YjLXcDRV7HdH"
      },
      "source": [
        "**5. Conclusión**\n",
        "\n",
        "Después de una cierta cantidad de pruebas ejecutadas, podemos concluir que el uso de OpenMP introduce 2 beneficios muy importantes, bajo el contexto de HPC, que permite obtener buen desempeño en las aplicaciones que lo utilizan. \n",
        "\n",
        "Uno de ellos, es la mejora de la complejidad computacional. Ante la ejecución secuencial del cálculo de cada una de las probabilidades de la distribución geométrica, definimos que se trata de una complejidad O(n) siendo n el rango de valores de dicha distribución. Esta complejidad se puede reducir con el paralelismo que provee OpenMP ya que cada hilo va a ejecutar la misma cantidad de pasos sin importar el valor de n, esto quiere decir que la complejidad nos queda en O(1), o lo que es equivalente a una constante.\n",
        "\n",
        "El segundo beneficio se da en la optimización del tiempo de ejecución. Cuando la cantidad de valores de la distribución a calcular (n) es notoriamente grande, podemos ver que el tiempo se reduce en gran medida. Sin embargo, ante una baja cantidad de valores, el tiempo se ve afectado con el paralelismo ya que la directiva \"#pragma omp parallel for\" introduce un tiempo de procesamiento necesario para su configuración, que sumado al tiempo de los calculos hace que la ejecución secuencial sea la mejor alternativa.\n",
        "\n"
      ]
    },
    {
      "cell_type": "code",
      "metadata": {
        "id": "-K0jYpNbO14G"
      },
      "source": [
        ""
      ],
      "execution_count": null,
      "outputs": []
    },
    {
      "cell_type": "markdown",
      "metadata": {
        "id": "UzFvjGq47J4Q"
      },
      "source": [
        "**6. Bibliografía**\n",
        "\n",
        "Calculo de Distribución Geométrica [Link](https://mielhistorico.unlam.edu.ar/data/contenido/1111/PyEformulasv2.pdf)\n",
        "\n",
        "Introducción a Colab [Link](https://www.youtube.com/watch?v=ICJP_ukNSQ0)\n",
        "\n",
        "Libreria Pandas [Link](https://aprendeconalf.es/docencia/python/manual/pandas/)\n",
        "\n",
        "Introducción Matplotlib [Link](https://programacion.net/articulo/introduccion_a_la_libreria_matplotlib_de_python_1599)\n",
        "\n",
        "Conocimiento para leer archivos csv/txt en Python [Link](https://pandas.pydata.org/pandas-docs/stable/reference/api/pandas.read_csv.html)\n",
        "\n",
        "Complejidad Computacional [Link](https://cs.famaf.unc.edu.ar/~hoffmann/md18/04.html#ejemplo-de-algoritmo-en-tiempo-o1)"
      ]
    }
  ]
}